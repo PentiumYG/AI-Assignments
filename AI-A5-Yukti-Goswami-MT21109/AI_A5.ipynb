{
  "nbformat": 4,
  "nbformat_minor": 0,
  "metadata": {
    "colab": {
      "name": "AI-A5.ipynb",
      "provenance": [],
      "collapsed_sections": []
    },
    "kernelspec": {
      "name": "python3",
      "display_name": "Python 3"
    },
    "language_info": {
      "name": "python"
    }
  },
  "cells": [
    {
      "cell_type": "code",
      "metadata": {
        "colab": {
          "base_uri": "https://localhost:8080/"
        },
        "id": "gFdn7UBSrPMV",
        "outputId": "1b6375ac-5394-4449-f637-bf3d57d7ef9e"
      },
      "source": [
        "import nltk\n",
        "nltk.download('punkt')"
      ],
      "execution_count": 2,
      "outputs": [
        {
          "output_type": "stream",
          "name": "stdout",
          "text": [
            "[nltk_data] Downloading package punkt to /root/nltk_data...\n",
            "[nltk_data]   Unzipping tokenizers/punkt.zip.\n"
          ]
        },
        {
          "output_type": "execute_result",
          "data": {
            "text/plain": [
              "True"
            ]
          },
          "metadata": {},
          "execution_count": 2
        }
      ]
    },
    {
      "cell_type": "code",
      "metadata": {
        "id": "HoPXmtlExZt6"
      },
      "source": [
        "import nltk\n",
        "from nltk.tokenize import word_tokenize\n",
        "from nltk.stem import PorterStemmer\n",
        "#from pyswip import Prolog"
      ],
      "execution_count": 4,
      "outputs": []
    },
    {
      "cell_type": "code",
      "metadata": {
        "colab": {
          "base_uri": "https://localhost:8080/"
        },
        "id": "AUnToOdIqvSH",
        "outputId": "dee23628-f14e-4769-d478-15471ec6b6b2"
      },
      "source": [
        "inplist = []\n",
        "print(\"Welcome to the Career Advisory System\")\n",
        "inp1 = input(\"Mention the stream you wish to persue your career in :\\nSelect one option:\\n1.cse\\n2.ese\\n3.cb\\n\")\n",
        "tok1 = word_tokenize(inp1)\n",
        "print(\"\\n\\n Stream Chosen:\", tok1)\n",
        "\n",
        "ps = PorterStemmer()\n",
        "for wod in tok1:\n",
        "    inplist.append(wod)\n",
        "\n",
        "print(\"\\n.. list is... \", inplist)\n",
        "print('\\n')\n",
        "\n",
        "f = open(\"CA.txt\", 'w')\n",
        "\n",
        "#CSE\n",
        "if \"cse\" in inplist:\n",
        "  f.write(\"stream(cse).\\n\")\n",
        "  inp2 = input(\"Choose your interest:\\n1. Artificial Intelligence(ai)\\n2.Data Engineering(de)\\n3.Information Security(is)\\n4.Mobile Computing(mc)\\n\")\n",
        "  tok2 = word_tokenize(inp2)\n",
        "  print(\"\\n\\n Interest Chosen:\", tok2)\n",
        "  for wod in tok2:\n",
        "    inplist.append(wod)\n",
        "  print(\"\\n.. list is \", inplist)\n",
        "  print('\\n')\n",
        "  ##choosen ai\n",
        "  if \"ai\" in inplist:\n",
        "    f.write(\"interest(ai).\\n\")\n",
        "    inp3 = input(\"Also choose specialisation as:\\n1. Artificial Intelligence Research(air)\\n2. Software Engineering(se)\\n3. Natural Language Processing(nlp)\\n4. User Experience(ue)\\n5. Data Analytics(da)\\n\")\n",
        "    tok3 = word_tokenize(inp3)\n",
        "    print(\"\\n\\n Sp Chosen:\", tok3)\n",
        "    for i in tok3:\n",
        "      inplist.append(i)\n",
        "    print(\"\\n.. list is \", inplist)\n",
        "    print('\\n')\n",
        "    if \"air\" in inplist:\n",
        "      f.write(\"specialization(air).\\n\")\n",
        "    if \"se\" in inplist:\n",
        "      f.write(\"specialization(se).\\n\")\n",
        "    if \"nlp\" in inplist:\n",
        "      f.write(\"specialization(nlp).\\n\")\n",
        "    if \"ue\" in inplist:\n",
        "      f.write(\"specialization(ue).\\n\")\n",
        "    if \"da\" in inplist:\n",
        "      f.write(\"specialization(da).\\n\")\n",
        "\n",
        "  ##choosen de\n",
        "  if \"de\" in inplist:\n",
        "    f.write(\"interest(de).\\n\")\n",
        "\n",
        "  ##choosen is\n",
        "  if \"is\" in inplist:\n",
        "    f.write(\"interest(is).\\n\")\n",
        "    inp3 = input(\"Also choose specialisation as:\\n1. Security Architect(sa)\\n2. Security Consultant(sc)\\n3. Penetration Tester(pt)\\n4. Chief Information Security Officer(ciso)\\n5. Cryptographer(c)\\n6. Security Analyst(san)\\n7. Security Engineer(sece)\\n\")\n",
        "    tok3 = word_tokenize(inp3)\n",
        "    print(\"\\n\\n Sp Chosen:\", tok3)\n",
        "    for i in tok3:\n",
        "      inplist.append(i)\n",
        "    print(\"\\n.. list is \", inplist)\n",
        "    print('\\n')\n",
        "    if \"sa\" in inplist:\n",
        "      f.write(\"specialization(sa).\\n\")\n",
        "    if \"sc\" in inplist:\n",
        "      f.write(\"specialization(sc).\\n\")\n",
        "    if \"pt\" in inplist:\n",
        "      f.write(\"specialization(pt).\\n\")\n",
        "    if \"ciso\" in inplist:\n",
        "      f.write(\"specialization(ciso).\\n\")\n",
        "    if \"c\" in inplist:\n",
        "      f.write(\"specialization(c).\\n\")\n",
        "    if \"san\" in inplist:\n",
        "      f.write(\"specialization(san).\\n\")\n",
        "    if \"sece\" in inplist:\n",
        "      f.write(\"specialization(sece).\\n\")\n",
        "  \n",
        "  ##choosen mc\n",
        "  if \"mc\" in inplist:\n",
        "    f.write(\"interest(mc).\\n\")\n",
        "\n",
        "\n",
        "\n",
        "##ECE \n",
        "if \"ece\" in inplist:\n",
        "    f.write(\"stream(ese).\")\n",
        "\n",
        "##CB\n",
        "if \"cb\" in inplist:\n",
        "    f.write(\"stream(cb).\")\n",
        "  \n",
        "\n",
        "\n",
        "f.close()"
      ],
      "execution_count": 26,
      "outputs": [
        {
          "output_type": "stream",
          "name": "stdout",
          "text": [
            "Welcome to the Career Advisory System\n",
            "Mention the stream you wish to persue your career in :\n",
            "Select one option:\n",
            "1.cse\n",
            "2.ese\n",
            "3.cb\n",
            "I would like to choose cse\n",
            "\n",
            "\n",
            " Stream Chosen: ['I', 'would', 'like', 'to', 'choose', 'cse']\n",
            "\n",
            ".. list is...  ['I', 'would', 'like', 'to', 'choose', 'cse']\n",
            "\n",
            "\n",
            "Choose your interest:\n",
            "1. Artificial Intelligence(ai)\n",
            "2.Data Engineering(de)\n",
            "3.Information Security(is)\n",
            "4.Mobile Computing(mc)\n",
            "ai interests me\n",
            "\n",
            "\n",
            " Interest Chosen: ['ai', 'interests', 'me']\n",
            "\n",
            ".. list is  ['I', 'would', 'like', 'to', 'choose', 'cse', 'ai', 'interests', 'me']\n",
            "\n",
            "\n",
            "Also choose specialisation as:\n",
            "1. Artificial Intelligence Research(air)\n",
            "2. Software Engineering(se)\n",
            "3. Natural Language Processing(nlp)\n",
            "4. User Experience(ue)\n",
            "5. Data Analytics(da)\n",
            "I am more into nlp\n",
            "\n",
            "\n",
            " Sp Chosen: ['I', 'am', 'more', 'into', 'nlp']\n",
            "\n",
            ".. list is  ['I', 'would', 'like', 'to', 'choose', 'cse', 'ai', 'interests', 'me', 'I', 'am', 'more', 'into', 'nlp']\n",
            "\n",
            "\n"
          ]
        }
      ]
    }
  ]
}